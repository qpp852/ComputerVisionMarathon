{
 "cells": [
  {
   "cell_type": "markdown",
   "metadata": {},
   "source": [
    "# 作業\n",
    "\n",
    "思考一下我們前面有提到圖片是矩陣，但維度可能會不一樣\n",
    "例如灰階圖只有兩個維度，RGB 彩圖則有 3 個維度\n",
    "\n",
    "假如今天我們把 RGB 3 個維度拆開來看會有甚麼不同的效果呢？"
   ]
  },
  {
   "cell_type": "code",
   "execution_count": null,
   "metadata": {
    "pycharm": {
     "is_executing": true
    }
   },
   "outputs": [],
   "source": [
    "import numpy as np\n",
    "import cv2\n",
    "img_path = \"../static/lena.png\"\n",
    "img = cv2.imread(img_path, cv2.IMREAD_COLOR)\n",
    "\n",
    "# create a zeros nd array\n",
    "zero_array = np.zeros([512, 512, 2])\n",
    "\n",
    "# red only image\n",
    "r_img = img.copy()\n",
    "r_img[:, :, [0, 1]] = 0\n",
    "\n",
    "# green only image\n",
    "g_img = img.copy()\n",
    "g_img[:, :, [0, 2]] = 0\n",
    "\n",
    "# blue only image\n",
    "b_img = img.copy()\n",
    "b_img[:, :, [1, 2]] = 0\n",
    "\n",
    "cv2.imshow('red only', r_img)\n",
    "cv2.imshow('green only', g_img)\n",
    "cv2.imshow('blue only', b_img)\n",
    "cv2.waitKey(0)\n",
    "cv2.destroyAllWindows()"
   ]
  }
 ],
 "metadata": {
  "kernelspec": {
   "display_name": "Python 3",
   "language": "python",
   "name": "python3"
  },
  "language_info": {
   "codemirror_mode": {
    "name": "ipython",
    "version": 3
   },
   "file_extension": ".py",
   "mimetype": "text/x-python",
   "name": "python",
   "nbconvert_exporter": "python",
   "pygments_lexer": "ipython3",
   "version": "3.7.9"
  }
 },
 "nbformat": 4,
 "nbformat_minor": 2
}